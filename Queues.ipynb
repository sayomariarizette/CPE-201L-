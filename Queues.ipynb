{
  "nbformat": 4,
  "nbformat_minor": 0,
  "metadata": {
    "colab": {
      "provenance": [],
      "authorship_tag": "ABX9TyMRyq8MQbSFpk7tkYifpyTA",
      "include_colab_link": true
    },
    "kernelspec": {
      "name": "python3",
      "display_name": "Python 3"
    },
    "language_info": {
      "name": "python"
    }
  },
  "cells": [
    {
      "cell_type": "markdown",
      "metadata": {
        "id": "view-in-github",
        "colab_type": "text"
      },
      "source": [
        "<a href=\"https://colab.research.google.com/github/sayomariarizette/CPE-201L-/blob/main/Queues.ipynb\" target=\"_parent\"><img src=\"https://colab.research.google.com/assets/colab-badge.svg\" alt=\"Open In Colab\"/></a>"
      ]
    },
    {
      "cell_type": "code",
      "execution_count": 32,
      "metadata": {
        "colab": {
          "base_uri": "https://localhost:8080/"
        },
        "id": "TpbTaww31EVq",
        "outputId": "f4815d8d-7546-44ba-e296-a17a9daa72d4"
      },
      "outputs": [
        {
          "output_type": "stream",
          "name": "stdout",
          "text": [
            "Sat\n",
            "Fri\n",
            "Thu\n",
            "Wed\n",
            "Tue\n",
            "Mon\n"
          ]
        }
      ],
      "source": [
        "class Queue:\n",
        "    def __init__(self):\n",
        "        self.queue = []\n",
        "\n",
        "    def enqueue(self, dataval):\n",
        "        # Use list append method to add element\n",
        "        if dataval not in self.queue:\n",
        "            self.queue.append(dataval)\n",
        "            return True\n",
        "        else:\n",
        "            return False\n",
        "\n",
        "    def dequeue(self):\n",
        "        # Remove and return the top element (last in first out)\n",
        "        if len(self.queue) <= 0:\n",
        "            return \"Queue is empty\"\n",
        "        else:\n",
        "            return reversed(self.queue.pop(0))\n",
        "\n",
        "    def display(self):\n",
        "      for item in reversed(self.queue):    #stack = [\"Sun\",\"Mon\",\"Tues\",\"Wed\",\"Thurs\",\"Fri\",\"Sat\"]\n",
        "        print(item)\n",
        "\n",
        "    #def empty_queue(self):\n",
        "\n",
        "    #def full_queue(self):\n",
        "\n",
        "    #def top_element(self):\n",
        "    #def head_queue(self):\n",
        "    #def tail_queue(self):\n",
        "AQueue = Queue()\n",
        "AQueue.enqueue(\"Sun\")\n",
        "AQueue.enqueue(\"Mon\")\n",
        "AQueue.enqueue(\"Tue\")\n",
        "AQueue.enqueue(\"Wed\")\n",
        "AQueue.enqueue(\"Thu\")\n",
        "AQueue.enqueue(\"Fri\")\n",
        "AQueue.enqueue(\"Sat\")\n",
        "\n",
        "AQueue.dequeue()\n",
        "AQueue.dequeue()\n",
        "AQueue.display()\n",
        "\n",
        "\n",
        "\n",
        "\n",
        "\n"
      ]
    }
  ]
}