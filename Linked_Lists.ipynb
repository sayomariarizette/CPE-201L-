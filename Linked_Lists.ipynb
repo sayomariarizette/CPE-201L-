{
  "nbformat": 4,
  "nbformat_minor": 0,
  "metadata": {
    "colab": {
      "provenance": [],
      "authorship_tag": "ABX9TyPR2m4y96AeDnXxDxWup6VN",
      "include_colab_link": true
    },
    "kernelspec": {
      "name": "python3",
      "display_name": "Python 3"
    },
    "language_info": {
      "name": "python"
    }
  },
  "cells": [
    {
      "cell_type": "markdown",
      "metadata": {
        "id": "view-in-github",
        "colab_type": "text"
      },
      "source": [
        "<a href=\"https://colab.research.google.com/github/sayomariarizette/CPE-201L-/blob/main/Linked_Lists.ipynb\" target=\"_parent\"><img src=\"https://colab.research.google.com/assets/colab-badge.svg\" alt=\"Open In Colab\"/></a>"
      ]
    },
    {
      "cell_type": "code",
      "execution_count": 3,
      "metadata": {
        "colab": {
          "base_uri": "https://localhost:8080/"
        },
        "id": "9M4KTEtzrNBL",
        "outputId": "d9bc8587-fcfe-4dfa-e7af-1d10cd7ac3d3"
      },
      "outputs": [
        {
          "output_type": "stream",
          "name": "stdout",
          "text": [
            "A\n",
            "B\n",
            "C\n",
            "D\n"
          ]
        }
      ],
      "source": [
        "# Node class\n",
        "class Node:\n",
        "\n",
        "    # Function to initialize the node object\n",
        "    def __init__(self, data):\n",
        "        self.data = data # Assign data\n",
        "        self.next = None # Initialize\n",
        "                        # next as null\n",
        "\n",
        "# Linked List class\n",
        "class LinkedList:\n",
        "\n",
        "    # Function to initialize the Linked\n",
        "    # List object\n",
        "    def __init__(self):\n",
        "        self.head = None\n",
        "    def print_data(self):\n",
        "      current =self.head\n",
        "      while current:\n",
        "        print(current.data)\n",
        "        current=current.next\n",
        "\n",
        "if __name__=='__main__':\n",
        "# Start with the empty list\n",
        "    llist = LinkedList()\n",
        "\n",
        "    llist.head = Node(\"A\")  #object name1\n",
        "    second = Node(\"B\")        #object name2\n",
        "    third = Node(\"C\")\n",
        "    fourth = Node(\"D\")\n",
        "\n",
        "    llist.head.next = second # Link first node with second\n",
        "    second.next = third # Link second node with the third node\n",
        "    third.next = fourth #Link third to fourth\n",
        "\n",
        "    llist.print_data()"
      ]
    }
  ]
}