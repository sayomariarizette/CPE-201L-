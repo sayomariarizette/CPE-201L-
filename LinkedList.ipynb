{
  "nbformat": 4,
  "nbformat_minor": 0,
  "metadata": {
    "colab": {
      "provenance": [],
      "authorship_tag": "ABX9TyO/cLsw42K31Uhd4RVhC92X",
      "include_colab_link": true
    },
    "kernelspec": {
      "name": "python3",
      "display_name": "Python 3"
    },
    "language_info": {
      "name": "python"
    }
  },
  "cells": [
    {
      "cell_type": "markdown",
      "metadata": {
        "id": "view-in-github",
        "colab_type": "text"
      },
      "source": [
        "<a href=\"https://colab.research.google.com/github/sayomariarizette/CPE-201L-/blob/main/LinkedList.ipynb\" target=\"_parent\"><img src=\"https://colab.research.google.com/assets/colab-badge.svg\" alt=\"Open In Colab\"/></a>"
      ]
    },
    {
      "cell_type": "code",
      "execution_count": 8,
      "metadata": {
        "colab": {
          "base_uri": "https://localhost:8080/"
        },
        "id": "9Vt1ySXTjkUd",
        "outputId": "cee54dd4-12bf-45d5-e930-a7532f993c3c"
      },
      "outputs": [
        {
          "output_type": "execute_result",
          "data": {
            "text/plain": [
              "array('f', [1.0, 2.0, 3.0, 4.0, 5.0, 6.0, -7.0])"
            ]
          },
          "metadata": {},
          "execution_count": 8
        }
      ],
      "source": [
        "import array as Arr\n",
        "\n",
        "array.typecodes  #get all typecodes\n",
        "a = Arr.array('i', [1,2,3,4,5,6,-7]) #initializing array a\n",
        "b = Arr.array('f', [1.5,2.5,3.5,4.5,5.5,6.5]) #initializing array b\n",
        "a.typecode #getting the typecode of a\n",
        "c = Arr.array('f', (float(y) for y in a))\n",
        "c\n",
        "\n",
        "#Create the elements of array a to float/decimal number\n"
      ]
    },
    {
      "cell_type": "code",
      "source": [
        "import array\n",
        "array.typecodes  #get all typecodes\n",
        "a = array.array('i', [1,2,3,4,5,6,-7]) #initializing array a\n",
        "b = array.array('f', [1.5,2.5,3.5,4.5,5.5,6.5]) #initializing array b\n",
        "a.typecode #getting the typecode of a\n",
        "b.typecode #getting the typecode of b\n",
        "a.typecode #getting the typecode of a"
      ],
      "metadata": {
        "id": "y5hlqh33rOWM"
      },
      "execution_count": null,
      "outputs": []
    },
    {
      "cell_type": "code",
      "source": [
        "from array import array # importing array from array module\n",
        "a= array('i',[4,5,6,7]) # initializing array\n",
        "a.insert(1,2) # inserting element: 2 at index: 1\n",
        "a  # Printing array a\n",
        "array('i', [4, 2, 5, 6, 7])\n",
        "a.insert(-2,0) # insert element: 0 at index: -1\n",
        "a\n",
        "a.insert(10, -1) # insert element: -1 at index: 10, this is out of range\n",
        "a\n"
      ],
      "metadata": {
        "colab": {
          "base_uri": "https://localhost:8080/"
        },
        "id": "FjF4Go2txvjO",
        "outputId": "e3b14f8c-992e-46f2-dfd7-edc6fe48f4e8"
      },
      "execution_count": 14,
      "outputs": [
        {
          "output_type": "execute_result",
          "data": {
            "text/plain": [
              "array('i', [4, 2, 5, 0, 6, 7, -1])"
            ]
          },
          "metadata": {},
          "execution_count": 14
        }
      ]
    },
    {
      "cell_type": "code",
      "source": [
        "# Node class\n",
        "class Node:\n",
        "\n",
        "    # Function to initialize the node object\n",
        "    def __init__(self, data):\n",
        "        self.data = data # Assign data\n",
        "        self.next = None # Initialize\n",
        "                        # next as null\n",
        "\n",
        "# Linked List class\n",
        "class LinkedList:\n",
        "\n",
        "    # Function to initialize the Linked\n",
        "    # List object\n",
        "    def __init__(self):\n",
        "        self.head = None\n",
        "\n",
        "    def print_all(self):\n",
        "      current = self.head\n",
        "      while current:\n",
        "        print(current.data)\n",
        "        current = current.next\n",
        "\n",
        "\n",
        "# Code execution starts here\n",
        "if __name__=='__main__':\n",
        "\n",
        "    # Start with the empty list #naming an object\n",
        "    llist = LinkedList()\n",
        "\n",
        "    llist.head = Node(\"A\")\n",
        "    second = Node(\"B\")\n",
        "    third = Node(\"C\")\n",
        "    fourth = Node(\"D\")\n",
        "\n",
        "    llist.head.next = second # Link first node with second\n",
        "    second.next = third # Link second node with the third node\n",
        "    third.next = fourth\n",
        "\n",
        "\n",
        "    print(llist.print_all())\n",
        "\n",
        "\n",
        "\n",
        "\n",
        "\n",
        "\n"
      ],
      "metadata": {
        "colab": {
          "base_uri": "https://localhost:8080/"
        },
        "id": "Sf0unudS2Bxr",
        "outputId": "c9e67855-38bb-427d-b35f-56d194c43013"
      },
      "execution_count": 32,
      "outputs": [
        {
          "output_type": "stream",
          "name": "stdout",
          "text": [
            "A\n",
            "B\n",
            "C\n",
            "D\n",
            "None\n"
          ]
        }
      ]
    }
  ]
}